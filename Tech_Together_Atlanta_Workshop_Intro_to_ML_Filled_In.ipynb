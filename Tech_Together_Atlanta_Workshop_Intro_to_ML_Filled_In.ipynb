{
  "nbformat": 4,
  "nbformat_minor": 0,
  "metadata": {
    "colab": {
      "name": "Tech Together Atlanta Workshop - Intro to ML- Filled In",
      "provenance": [],
      "collapsed_sections": []
    },
    "kernelspec": {
      "name": "python3",
      "display_name": "Python 3"
    }
  },
  "cells": [
    {
      "cell_type": "markdown",
      "metadata": {
        "id": "O5fxoozuYJKy"
      },
      "source": [
        "#**Tech Together Atlanta Workshop - Intro to ML 🤖🌸**\r\n",
        "\r\n",
        "\r\n"
      ]
    },
    {
      "cell_type": "markdown",
      "metadata": {
        "id": "LndBWW0PnEJg"
      },
      "source": [
        "# Intro\r\n",
        "Now that we've learned a bit about machine learning and a building block machine learning algorithm, the perceptron, let's put our knowledge to the test and code the perceptron from scratch! 🧠⚡\r\n",
        "\r\n",
        "A bit of background on the different languages and libraries you'll see throughout this workshop: \r\n",
        "\r\n",
        "- 🐍 Python: a programming language typically used for machine learning applications \r\n",
        "\r\n",
        "- 🔢 numpy: Python library which allows for mathematical manipulation of arrays and matrices\r\n",
        "\r\n",
        "- 🐼 Pandas: Python library used for data manipulation and analysis- really useful for manipualting numerical tables \r\n",
        "\r\n",
        "- 📜 Colab: the IDE (integrated development environment) you're writing your code in! Saves to your google drive and doesn't require a physical GPU -  another  super common alternative in Jupyter notebooks, which you can read about more [here](https://jupyter.org/)! "
      ]
    },
    {
      "cell_type": "markdown",
      "metadata": {
        "id": "J9wdb69-pHB-"
      },
      "source": [
        "# Coding the Perceptron\r\n",
        "\r\n"
      ]
    },
    {
      "cell_type": "markdown",
      "metadata": {
        "id": "osopE1mwVOGT"
      },
      "source": [
        "\r\n",
        "\r\n",
        "---\r\n",
        "\r\n",
        "\r\n",
        "Recall that the perceptron works as follows:\r\n",
        "\r\n",
        "For a point with coordinates (p,q), label y, and prediction given by the equation:\r\n",
        "\r\n",
        " ![image.png](data:image/png;base64,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)\r\n",
        "\r\n",
        "\r\n",
        "\r\n",
        "\r\n",
        "- If the point is correctly classified, do nothing.\r\n",
        "\r\n",
        "- If the point is classified positive, but it has a negative label, subtract ap, aq and a from w1, w2 and b respectively\r\n",
        "- If the point is classified negative, but it has a positive label, add ap, aq, and a to w1, w2 and b respectively\r\n",
        "\r\n",
        "\r\n",
        "---\r\n",
        "\r\n"
      ]
    },
    {
      "cell_type": "markdown",
      "metadata": {
        "id": "MUcmLRMQWtQM"
      },
      "source": [
        "### What kind of data do we want to define (eg. our variables)?"
      ]
    },
    {
      "cell_type": "markdown",
      "metadata": {
        "id": "ArCKIE0-W_80"
      },
      "source": [
        "\r\n",
        "\r\n",
        "```\r\n",
        "X = data, y = labels, W = weights (array), b = bias, learn_rate\r\n",
        "```\r\n",
        "\r\n"
      ]
    },
    {
      "cell_type": "markdown",
      "metadata": {
        "id": "jpnSakikWruK"
      },
      "source": [
        "### What are the components of the perceptron that we should consider?\r\n",
        "\r\n"
      ]
    },
    {
      "cell_type": "markdown",
      "metadata": {
        "id": "Ix5GV0TJXGPK"
      },
      "source": [
        "\r\n",
        "\r\n",
        "```\r\n",
        "- step function [purpose: gives the point a value of 1 or 0 based on what the y-hat function from above outputs]\r\n",
        "- prediction function [ purpose: outputs the predicted value, y-hat]\r\n",
        "- perceptron function [ purpose: the logic behind the algorithm]\r\n",
        "```\r\n",
        "\r\n"
      ]
    },
    {
      "cell_type": "markdown",
      "metadata": {
        "id": "fBDk_i0FX8IA"
      },
      "source": [
        "1. perceptron algorithm "
      ]
    },
    {
      "cell_type": "code",
      "metadata": {
        "id": "S1b7hUQBY1Ux"
      },
      "source": [
        "def perceptron(X, y, W, b, learn_rate = 0.06):\r\n",
        "    y_hat = prediction(X,W,b) # returns predicted value\r\n",
        "    \r\n",
        "    if y - y_hat == 1:        # point classified negative but has positive label, label actually 1 but prediction 0\r\n",
        "        W += X * learn_rate   # add learning rate * x value\r\n",
        "        b += learn_rate       # add learning rate\r\n",
        "    elif y - y_hat == -1:     # point classified positive but has negative label, label actually 0 but prediction 1\r\n",
        "        W -= X * learn_rate   # subtract learning rate * x value\r\n",
        "        b -= learn_rate       # subtract learning rate\r\n",
        "    \r\n",
        "    return W, b"
      ],
      "execution_count": 40,
      "outputs": []
    },
    {
      "cell_type": "markdown",
      "metadata": {
        "id": "xOtFMtHmYSzs"
      },
      "source": [
        "2. prediction function"
      ]
    },
    {
      "cell_type": "code",
      "metadata": {
        "id": "7-fbfsAKY2Ww"
      },
      "source": [
        "def prediction(X, W, b):\r\n",
        "    return step((np.matmul(X,W)+b)) "
      ],
      "execution_count": 41,
      "outputs": []
    },
    {
      "cell_type": "markdown",
      "metadata": {
        "id": "k7krCIl4YTJS"
      },
      "source": [
        "3. step function"
      ]
    },
    {
      "cell_type": "code",
      "metadata": {
        "id": "n6LonFfRY3K1"
      },
      "source": [
        "def step(t):          # if the value of the step function is greater than 0 then it's 'positive', return 1.\r\n",
        "    if t >= 0:\r\n",
        "        return 1\r\n",
        "    else:             # if the value of the step function is less than 0 then it's 'negative', return 0.\r\n",
        "        return 0"
      ],
      "execution_count": 42,
      "outputs": []
    },
    {
      "cell_type": "markdown",
      "metadata": {
        "id": "QS-qi3bLYHRw"
      },
      "source": [
        "Now that we've coded our perceptron from scratch, let's test it out on a real dataset!"
      ]
    },
    {
      "cell_type": "markdown",
      "metadata": {
        "id": "7Q8UP7zAmVwd"
      },
      "source": [
        "# Importing our data set\r\n",
        "in order to be able to test our our perceptron algorithm, we're going to need to add in some data. We're going to be using the popular iris dataset for this workshop. This dataset serves as a staple for testing the effectiveness of various ML algorithms.\r\n",
        "\r\n",
        "[more about the set](https://en.wikipedia.org/wiki/Iris_flower_data_set)\r\n",
        "\r\n",
        "Let's take a peek inside the dataset to get a better understanding of the data we're working with!\r\n"
      ]
    },
    {
      "cell_type": "code",
      "metadata": {
        "id": "pg-6xLlzX4Bg",
        "colab": {
          "base_uri": "https://localhost:8080/",
          "height": 204
        },
        "outputId": "a9016037-d509-4789-e771-5d79ce028a21"
      },
      "source": [
        "import pandas as pd  # import the pandas library so we can use its functions\r\n",
        "df = pd.read_csv('https://archive.ics.uci.edu/ml/machine-learning-databases/iris/iris.data', header=None) # converting csv file into dataframe (a special pandas table) that will allow us to easily manipulate our data\r\n",
        "df.head() #let's take a look at the first 5 rows of our dataframe"
      ],
      "execution_count": 43,
      "outputs": [
        {
          "output_type": "execute_result",
          "data": {
            "text/html": [
              "<div>\n",
              "<style scoped>\n",
              "    .dataframe tbody tr th:only-of-type {\n",
              "        vertical-align: middle;\n",
              "    }\n",
              "\n",
              "    .dataframe tbody tr th {\n",
              "        vertical-align: top;\n",
              "    }\n",
              "\n",
              "    .dataframe thead th {\n",
              "        text-align: right;\n",
              "    }\n",
              "</style>\n",
              "<table border=\"1\" class=\"dataframe\">\n",
              "  <thead>\n",
              "    <tr style=\"text-align: right;\">\n",
              "      <th></th>\n",
              "      <th>0</th>\n",
              "      <th>1</th>\n",
              "      <th>2</th>\n",
              "      <th>3</th>\n",
              "      <th>4</th>\n",
              "    </tr>\n",
              "  </thead>\n",
              "  <tbody>\n",
              "    <tr>\n",
              "      <th>0</th>\n",
              "      <td>5.1</td>\n",
              "      <td>3.5</td>\n",
              "      <td>1.4</td>\n",
              "      <td>0.2</td>\n",
              "      <td>Iris-setosa</td>\n",
              "    </tr>\n",
              "    <tr>\n",
              "      <th>1</th>\n",
              "      <td>4.9</td>\n",
              "      <td>3.0</td>\n",
              "      <td>1.4</td>\n",
              "      <td>0.2</td>\n",
              "      <td>Iris-setosa</td>\n",
              "    </tr>\n",
              "    <tr>\n",
              "      <th>2</th>\n",
              "      <td>4.7</td>\n",
              "      <td>3.2</td>\n",
              "      <td>1.3</td>\n",
              "      <td>0.2</td>\n",
              "      <td>Iris-setosa</td>\n",
              "    </tr>\n",
              "    <tr>\n",
              "      <th>3</th>\n",
              "      <td>4.6</td>\n",
              "      <td>3.1</td>\n",
              "      <td>1.5</td>\n",
              "      <td>0.2</td>\n",
              "      <td>Iris-setosa</td>\n",
              "    </tr>\n",
              "    <tr>\n",
              "      <th>4</th>\n",
              "      <td>5.0</td>\n",
              "      <td>3.6</td>\n",
              "      <td>1.4</td>\n",
              "      <td>0.2</td>\n",
              "      <td>Iris-setosa</td>\n",
              "    </tr>\n",
              "  </tbody>\n",
              "</table>\n",
              "</div>"
            ],
            "text/plain": [
              "     0    1    2    3            4\n",
              "0  5.1  3.5  1.4  0.2  Iris-setosa\n",
              "1  4.9  3.0  1.4  0.2  Iris-setosa\n",
              "2  4.7  3.2  1.3  0.2  Iris-setosa\n",
              "3  4.6  3.1  1.5  0.2  Iris-setosa\n",
              "4  5.0  3.6  1.4  0.2  Iris-setosa"
            ]
          },
          "metadata": {
            "tags": []
          },
          "execution_count": 43
        }
      ]
    },
    {
      "cell_type": "code",
      "metadata": {
        "id": "zYnNTBcPYTc_",
        "colab": {
          "base_uri": "https://localhost:8080/"
        },
        "outputId": "f28dc656-5e9c-4633-bfba-c9206f2332c5"
      },
      "source": [
        "import matplotlib.pyplot as plt\r\n",
        "import numpy as np\r\n",
        "\r\n",
        "# Syntax: df.iloc returns (index, value(s)) list, where: \r\n",
        "# (1) the 0:100 means \"Get the first 100 data frame entries, and \r\n",
        "# (2) the 4 means \"only the (zero-indexed) 4th column of those entries, specifically. \r\n",
        "# (3) .values means we only return the values, not their original indices. \r\n",
        "y = df.iloc[0:100, 4].values\r\n",
        "\r\n",
        "y = np.where(y == 'Iris-setosa', 0, 1) # need to create the labels that we had above! (1 for Versicolor and 0 for Setosa flowers)\r\n",
        "print(y)\r\n",
        "\r\n",
        "X = df.iloc[0:100, [0, 2]].values      # extract feature column (sepal length), 3rd feature column (petal length) and assign to feature matrix X:\r\n",
        "print(X)"
      ],
      "execution_count": 44,
      "outputs": [
        {
          "output_type": "stream",
          "text": [
            "[0 0 0 0 0 0 0 0 0 0 0 0 0 0 0 0 0 0 0 0 0 0 0 0 0 0 0 0 0 0 0 0 0 0 0 0 0\n",
            " 0 0 0 0 0 0 0 0 0 0 0 0 0 1 1 1 1 1 1 1 1 1 1 1 1 1 1 1 1 1 1 1 1 1 1 1 1\n",
            " 1 1 1 1 1 1 1 1 1 1 1 1 1 1 1 1 1 1 1 1 1 1 1 1 1 1]\n",
            "[[5.1 1.4]\n",
            " [4.9 1.4]\n",
            " [4.7 1.3]\n",
            " [4.6 1.5]\n",
            " [5.  1.4]\n",
            " [5.4 1.7]\n",
            " [4.6 1.4]\n",
            " [5.  1.5]\n",
            " [4.4 1.4]\n",
            " [4.9 1.5]\n",
            " [5.4 1.5]\n",
            " [4.8 1.6]\n",
            " [4.8 1.4]\n",
            " [4.3 1.1]\n",
            " [5.8 1.2]\n",
            " [5.7 1.5]\n",
            " [5.4 1.3]\n",
            " [5.1 1.4]\n",
            " [5.7 1.7]\n",
            " [5.1 1.5]\n",
            " [5.4 1.7]\n",
            " [5.1 1.5]\n",
            " [4.6 1. ]\n",
            " [5.1 1.7]\n",
            " [4.8 1.9]\n",
            " [5.  1.6]\n",
            " [5.  1.6]\n",
            " [5.2 1.5]\n",
            " [5.2 1.4]\n",
            " [4.7 1.6]\n",
            " [4.8 1.6]\n",
            " [5.4 1.5]\n",
            " [5.2 1.5]\n",
            " [5.5 1.4]\n",
            " [4.9 1.5]\n",
            " [5.  1.2]\n",
            " [5.5 1.3]\n",
            " [4.9 1.5]\n",
            " [4.4 1.3]\n",
            " [5.1 1.5]\n",
            " [5.  1.3]\n",
            " [4.5 1.3]\n",
            " [4.4 1.3]\n",
            " [5.  1.6]\n",
            " [5.1 1.9]\n",
            " [4.8 1.4]\n",
            " [5.1 1.6]\n",
            " [4.6 1.4]\n",
            " [5.3 1.5]\n",
            " [5.  1.4]\n",
            " [7.  4.7]\n",
            " [6.4 4.5]\n",
            " [6.9 4.9]\n",
            " [5.5 4. ]\n",
            " [6.5 4.6]\n",
            " [5.7 4.5]\n",
            " [6.3 4.7]\n",
            " [4.9 3.3]\n",
            " [6.6 4.6]\n",
            " [5.2 3.9]\n",
            " [5.  3.5]\n",
            " [5.9 4.2]\n",
            " [6.  4. ]\n",
            " [6.1 4.7]\n",
            " [5.6 3.6]\n",
            " [6.7 4.4]\n",
            " [5.6 4.5]\n",
            " [5.8 4.1]\n",
            " [6.2 4.5]\n",
            " [5.6 3.9]\n",
            " [5.9 4.8]\n",
            " [6.1 4. ]\n",
            " [6.3 4.9]\n",
            " [6.1 4.7]\n",
            " [6.4 4.3]\n",
            " [6.6 4.4]\n",
            " [6.8 4.8]\n",
            " [6.7 5. ]\n",
            " [6.  4.5]\n",
            " [5.7 3.5]\n",
            " [5.5 3.8]\n",
            " [5.5 3.7]\n",
            " [5.8 3.9]\n",
            " [6.  5.1]\n",
            " [5.4 4.5]\n",
            " [6.  4.5]\n",
            " [6.7 4.7]\n",
            " [6.3 4.4]\n",
            " [5.6 4.1]\n",
            " [5.5 4. ]\n",
            " [5.5 4.4]\n",
            " [6.1 4.6]\n",
            " [5.8 4. ]\n",
            " [5.  3.3]\n",
            " [5.6 4.2]\n",
            " [5.7 4.2]\n",
            " [5.7 4.2]\n",
            " [6.2 4.3]\n",
            " [5.1 3. ]\n",
            " [5.7 4.1]]\n"
          ],
          "name": "stdout"
        }
      ]
    },
    {
      "cell_type": "code",
      "metadata": {
        "id": "_QMFXvd8bIHA",
        "colab": {
          "base_uri": "https://localhost:8080/",
          "height": 279
        },
        "outputId": "88586fb5-bb59-4f2f-b68d-c599ba8a5f56"
      },
      "source": [
        "import matplotlib.pyplot as plt\r\n",
        "import numpy as np\r\n",
        "%matplotlib inline\r\n",
        "\r\n",
        "plt.scatter(X[:50, 0], X[:50, 1],\r\n",
        "            color='green', marker='x', label='setosa')\r\n",
        "plt.scatter(X[50:100, 0], X[50:100, 1],\r\n",
        "            color='red', marker='o', label='versicolor')\r\n",
        "plt.xlabel('sepal length')\r\n",
        "plt.ylabel('petal length')\r\n",
        "plt.legend(loc='upper right')\r\n",
        "plt.show()"
      ],
      "execution_count": 45,
      "outputs": [
        {
          "output_type": "display_data",
          "data": {
            "image/png": "[encoded data removed]",
            "text/plain": [
              "<Figure size 432x288 with 1 Axes>"
            ]
          },
          "metadata": {
            "tags": [],
            "needs_background": "light"
          }
        }
      ]
    },
    {
      "cell_type": "markdown",
      "metadata": {
        "id": "xhcChLZjk0AI"
      },
      "source": [
        "**Before Training**"
      ]
    },
    {
      "cell_type": "code",
      "metadata": {
        "id": "cpKmz_SQkrRU",
        "colab": {
          "base_uri": "https://localhost:8080/"
        },
        "outputId": "5573037b-7f88-41f1-92d7-2d04da3cb8db"
      },
      "source": [
        "from sklearn.metrics import f1_score, precision_score, recall_score\r\n",
        "W = np.random.rand(2) #2D\r\n",
        "b = np.random.rand(1) #1D\r\n",
        "\r\n",
        "y_pred = []\r\n",
        "for data in X:\r\n",
        "    y_pred.append(prediction(data, W, b))\r\n",
        "\r\n",
        "recall_score(y, y_pred, average = 'micro')"
      ],
      "execution_count": 46,
      "outputs": [
        {
          "output_type": "execute_result",
          "data": {
            "text/plain": [
              "0.5"
            ]
          },
          "metadata": {
            "tags": []
          },
          "execution_count": 46
        }
      ]
    },
    {
      "cell_type": "markdown",
      "metadata": {
        "id": "PrAX4a74baW-"
      },
      "source": [
        "Note: recall score\r\n",
        "- metric for testing out how well a classifier did\r\n",
        "  - out of all the flowers that were truly versicolor, how many did we label?\r\n",
        "  - e.g, What proportion of actual positives was identified correctly?"
      ]
    },
    {
      "cell_type": "markdown",
      "metadata": {
        "id": "950dXHeEk8s3"
      },
      "source": [
        "**Let's Train our Model!**"
      ]
    },
    {
      "cell_type": "code",
      "metadata": {
        "id": "Addj4GUHkyym",
        "colab": {
          "base_uri": "https://localhost:8080/"
        },
        "outputId": "a0b26349-9500-4d06-92d4-b39d8f81de6b"
      },
      "source": [
        "W = np.random.rand(2) #2D\r\n",
        "b = np.random.rand(1) #1D\r\n",
        "\r\n",
        "for i in range(100):  # train on 100 epochs (basically run through the algorithm 100 times)\r\n",
        "    for data, label in zip(X, y):\r\n",
        "        W, b = perceptron(data, label, W, b, learn_rate = 0.001)\r\n",
        "    \r\n",
        "    y_pred = []       # y-hat array\r\n",
        "    for data in X:\r\n",
        "        y_pred.append(prediction(data, W, b))\r\n",
        "\r\n",
        "    print(recall_score(y, y_pred, average = 'micro'))"
      ],
      "execution_count": 47,
      "outputs": [
        {
          "output_type": "stream",
          "text": [
            "0.5\n",
            "0.5\n",
            "0.5\n",
            "0.57\n",
            "0.98\n",
            "0.99\n",
            "0.99\n",
            "0.99\n",
            "0.99\n",
            "1.0\n",
            "1.0\n",
            "1.0\n",
            "1.0\n",
            "1.0\n",
            "1.0\n",
            "1.0\n",
            "1.0\n",
            "1.0\n",
            "1.0\n",
            "1.0\n",
            "1.0\n",
            "1.0\n",
            "1.0\n",
            "1.0\n",
            "1.0\n",
            "1.0\n",
            "1.0\n",
            "1.0\n",
            "1.0\n",
            "1.0\n",
            "1.0\n",
            "1.0\n",
            "1.0\n",
            "1.0\n",
            "1.0\n",
            "1.0\n",
            "1.0\n",
            "1.0\n",
            "1.0\n",
            "1.0\n",
            "1.0\n",
            "1.0\n",
            "1.0\n",
            "1.0\n",
            "1.0\n",
            "1.0\n",
            "1.0\n",
            "1.0\n",
            "1.0\n",
            "1.0\n",
            "1.0\n",
            "1.0\n",
            "1.0\n",
            "1.0\n",
            "1.0\n",
            "1.0\n",
            "1.0\n",
            "1.0\n",
            "1.0\n",
            "1.0\n",
            "1.0\n",
            "1.0\n",
            "1.0\n",
            "1.0\n",
            "1.0\n",
            "1.0\n",
            "1.0\n",
            "1.0\n",
            "1.0\n",
            "1.0\n",
            "1.0\n",
            "1.0\n",
            "1.0\n",
            "1.0\n",
            "1.0\n",
            "1.0\n",
            "1.0\n",
            "1.0\n",
            "1.0\n",
            "1.0\n",
            "1.0\n",
            "1.0\n",
            "1.0\n",
            "1.0\n",
            "1.0\n",
            "1.0\n",
            "1.0\n",
            "1.0\n",
            "1.0\n",
            "1.0\n",
            "1.0\n",
            "1.0\n",
            "1.0\n",
            "1.0\n",
            "1.0\n",
            "1.0\n",
            "1.0\n",
            "1.0\n",
            "1.0\n",
            "1.0\n"
          ],
          "name": "stdout"
        }
      ]
    },
    {
      "cell_type": "markdown",
      "metadata": {
        "id": "sso05-fClLJL"
      },
      "source": [
        "**Scikit-Learn**\r\n",
        "\r\n",
        "scikit-learn is a machine learning library for Python which contains pre-made machine learning algorithms so we don't have to build them from scratch every time we want to tackle an ML problem! \r\n",
        "\r\n",
        "\r\n",
        "[Documentation](https://scikit-learn.org/stable/)\r\n",
        "\r\n",
        "Let's try using scikit-learn's built-in perceptron and see how effective it really is!"
      ]
    },
    {
      "cell_type": "code",
      "metadata": {
        "id": "S328GaWap1i3",
        "colab": {
          "base_uri": "https://localhost:8080/"
        },
        "outputId": "9b157480-053d-4be4-af7b-4b03575223f5"
      },
      "source": [
        "# using sci-learn's perceptron algorithm:\r\n",
        "\r\n",
        "from sklearn.linear_model import Perceptron\r\n",
        "clf = Perceptron(tol=1e-3, random_state=0)\r\n",
        "clf.fit(X, y)"
      ],
      "execution_count": 48,
      "outputs": [
        {
          "output_type": "execute_result",
          "data": {
            "text/plain": [
              "Perceptron(alpha=0.0001, class_weight=None, early_stopping=False, eta0=1.0,\n",
              "           fit_intercept=True, max_iter=1000, n_iter_no_change=5, n_jobs=None,\n",
              "           penalty=None, random_state=0, shuffle=True, tol=0.001,\n",
              "           validation_fraction=0.1, verbose=0, warm_start=False)"
            ]
          },
          "metadata": {
            "tags": []
          },
          "execution_count": 48
        }
      ]
    },
    {
      "cell_type": "code",
      "metadata": {
        "id": "tNviu-R4lJCv",
        "colab": {
          "base_uri": "https://localhost:8080/"
        },
        "outputId": "1c860409-ff9c-40dd-bf4e-ec18a87d16c9"
      },
      "source": [
        "predictions = clf.predict(X)\r\n",
        "recall_score(y, predictions, average = 'micro')"
      ],
      "execution_count": 49,
      "outputs": [
        {
          "output_type": "execute_result",
          "data": {
            "text/plain": [
              "1.0"
            ]
          },
          "metadata": {
            "tags": []
          },
          "execution_count": 49
        }
      ]
    },
    {
      "cell_type": "markdown",
      "metadata": {
        "id": "3e9I0a34lTBg"
      },
      "source": [
        "\r\n",
        "\r\n",
        "You may have noticed that the recall score for scikit-learn's built-in perceptron is really good! The reason why is that on top of the actual perceptron algorithm, scikit-learn's perceptron has a few other built in features to help it learn really well! Check out the documentation for more information: \r\n",
        "\r\n",
        "[Documentation](https://scikit-learn.org/stable/modules/generated/sklearn.linear_model.Perceptron.html)"
      ]
    },
    {
      "cell_type": "markdown",
      "metadata": {
        "id": "ev_USNDblt0V"
      },
      "source": [
        "**And we're done the workshop! Congrats on building your first Machine Learning algorithm, the perceptron! 👏👏👏**"
      ]
    }
  ]
}